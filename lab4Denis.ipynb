{
 "cells": [
  {
   "cell_type": "markdown",
   "metadata": {
    "collapsed": false
   },
   "source": [
    "Импорт библиотек"
   ]
  },
  {
   "cell_type": "code",
   "execution_count": 1,
   "metadata": {
    "collapsed": false
   },
   "outputs": [],
   "source": [
    "import pandas as pd\n",
    "from math import sqrt\n",
    "import matplotlib.pyplot as plt"
   ]
  },
  {
   "cell_type": "markdown",
   "metadata": {
    "collapsed": false
   },
   "source": [
    "Создание функций, которые будут использоваться во время выполнения заданий"
   ]
  },
  {
   "cell_type": "code",
   "execution_count": 2,
   "metadata": {
    "collapsed": false
   },
   "outputs": [],
   "source": [
    "def coef_reg(x, y):\n",
    "    print(x)\n",
    "    n = len(x)\n",
    "    a = (n * sum(x * y) - sum(x) * sum(y)) / (n * (sum([i ** 2 for i in x])) - sum(x) ** 2)\n",
    "    b = 1 / n * sum(y) - a / n * sum(x)\n",
    "    return a, b\n",
    "\n",
    "def func(base, name_X, name_Y,name_graf,with_line = None):\n",
    "    a, b = coef_reg(base[name_X], base[name_Y])\n",
    "\n",
    "    if with_line == 1:\n",
    "        line = [a * i + b for i in base[name_X]]\n",
    "        plt.plot(base[name_X], line, 'r')\n",
    "    else:\n",
    "        print('Кф корреляции равен: ', base.corr().to_dict()[name_X][name_Y])\n",
    "        print(f'Регрессионная модель: y = {a}*x + {b}')\n",
    "    plt.scatter(base[name_X], base[name_Y])\n",
    "    plt.title(name_graf)\n",
    "    plt.xlabel(name_X)\n",
    "    plt.ylabel(name_Y)\n",
    "    plt.show()\n"
   ]
  },
  {
   "cell_type": "markdown",
   "metadata": {
    "collapsed": false
   },
   "source": [
    "# Задание 1. Исследование связей между двумя признаками.\n",
    "## Условие задачи:\n",
    "По 20 туристическим фирмам были установлены затраты на рекламную\n",
    "кампанию и количество туристов, воспользовавшихся после ее проведения услугами каждой фирмы.\n",
    "Определить коэффициент корреляции между исследуемыми признаками."
   ]
  },
  {
   "cell_type": "markdown",
   "metadata": {
    "collapsed": false
   },
   "source": [
    "### Создадим DataFrame со значениями таблицы\n"
   ]
  },
  {
   "cell_type": "code",
   "execution_count": 3,
   "metadata": {
    "collapsed": false
   },
   "outputs": [
    {
     "data": {
      "text/html": [
       "<div>\n",
       "<style scoped>\n",
       "    .dataframe tbody tr th:only-of-type {\n",
       "        vertical-align: middle;\n",
       "    }\n",
       "\n",
       "    .dataframe tbody tr th {\n",
       "        vertical-align: top;\n",
       "    }\n",
       "\n",
       "    .dataframe thead th {\n",
       "        text-align: right;\n",
       "    }\n",
       "</style>\n",
       "<table border=\"1\" class=\"dataframe\">\n",
       "  <thead>\n",
       "    <tr style=\"text-align: right;\">\n",
       "      <th></th>\n",
       "    </tr>\n",
       "  </thead>\n",
       "  <tbody>\n",
       "  </tbody>\n",
       "</table>\n",
       "</div>"
      ],
      "text/plain": [
       "Empty DataFrame\n",
       "Columns: []\n",
       "Index: []"
      ]
     },
     "execution_count": 3,
     "metadata": {},
     "output_type": "execute_result"
    }
   ],
   "source": [
    "pred_base = {\n",
    "    'Затраты на рекламу,y.e.(Xi)': [5, 5, 7, 8, 9, 10, 11, 12, 13, 14, 15, 15, 16, 17, 18, 18, 19, 20, 20, 21],\n",
    "    'Количество туристов воспользовавшихся услугами фирмы (Yi)': [720, 750, 800, 820, 800, 880, 950, 820, 900, 950, 920,\n",
    "                                                                  980, 980, 970, 980, 1010, 1100, 1100, 1115, 1100]\n",
    "}\n",
    "base = pd.DataFrame()\n",
    "base"
   ]
  },
  {
   "cell_type": "markdown",
   "metadata": {
    "collapsed": false
   },
   "source": [
    "### Рассчитаем корреляцию"
   ]
  },
  {
   "cell_type": "code",
   "execution_count": 4,
   "metadata": {
    "collapsed": false
   },
   "outputs": [
    {
     "ename": "KeyError",
     "evalue": "'Затраты на рекламу,y.e.(Xi)'",
     "output_type": "error",
     "traceback": [
      "\u001b[0;31m---------------------------------------------------------------------------\u001b[0m",
      "\u001b[0;31mKeyError\u001b[0m                                  Traceback (most recent call last)",
      "Cell \u001b[0;32mIn [4], line 3\u001b[0m\n\u001b[1;32m      1\u001b[0m \u001b[39mprint\u001b[39m(\n\u001b[1;32m      2\u001b[0m     \u001b[39m'\u001b[39m\u001b[39mКоэффициент корреляции между затратами на рекламу и количеством туристов воспользовавшихся услугами фирмы составляет: \u001b[39m\u001b[39m'\u001b[39m,\n\u001b[0;32m----> 3\u001b[0m     base\u001b[39m.\u001b[39;49mcorr()\u001b[39m.\u001b[39;49mto_dict()[\u001b[39m'\u001b[39;49m\u001b[39mЗатраты на рекламу,y.e.(Xi)\u001b[39;49m\u001b[39m'\u001b[39;49m][\u001b[39m'\u001b[39m\u001b[39mКоличество туристов воспользовавшихся услугами фирмы (Yi)\u001b[39m\u001b[39m'\u001b[39m])\n",
      "\u001b[0;31mKeyError\u001b[0m: 'Затраты на рекламу,y.e.(Xi)'"
     ]
    }
   ],
   "source": [
    "print(\n",
    "    'Коэффициент корреляции между затратами на рекламу и количеством туристов воспользовавшихся услугами фирмы составляет: ',\n",
    "    base.corr().to_dict()['Затраты на рекламу,y.e.(Xi)']['Количество туристов воспользовавшихся услугами фирмы (Yi)'])"
   ]
  },
  {
   "cell_type": "markdown",
   "metadata": {
    "collapsed": false
   },
   "source": [
    "По таблице ![Таблица корреляции](image/img.png)\n",
    "МЫ ДЕЛАЕМ ВЫВОД, ЧТО КОРРЕЛЯЦИЯ ОЧЕНЬ СИЛЬНАЯ"
   ]
  },
  {
   "cell_type": "markdown",
   "metadata": {
    "collapsed": false
   },
   "source": [
    "Оцените значимость коэффициента корреляции. С этой целью рассматриваются две гипотезы.\n",
    "Основная Н0: xy=0 и альтернативная Н1: xy≠0. Для проверки гипотезы Н0 рассчитайте t-\n",
    "статистику Стьюдента по формуле, указанной выше в ячейке С24. В нашем случае число степеней\n",
    "свободы ν = n-2=20-2 = 18 и формула будет следующей: =C23*КОРЕНЬ(20-2)/КОРЕНЬ(1-(C23*C23))\n",
    "5. Сравните полученное значение с критическим значением tν,α распределения Стьюдента. (При ν\n",
    "=18 и доверительной вероятности α = 0,05, tν,α,табл = 1,734). Сделайте вывод о наличии связи между\n",
    "исследуемыми величинами."
   ]
  },
  {
   "cell_type": "code",
   "execution_count": 5,
   "metadata": {
    "collapsed": false
   },
   "outputs": [
    {
     "ename": "KeyError",
     "evalue": "'Затраты на рекламу,y.e.(Xi)'",
     "output_type": "error",
     "traceback": [
      "\u001b[0;31m---------------------------------------------------------------------------\u001b[0m",
      "\u001b[0;31mKeyError\u001b[0m                                  Traceback (most recent call last)",
      "Cell \u001b[0;32mIn [5], line 1\u001b[0m\n\u001b[0;32m----> 1\u001b[0m res \u001b[39m=\u001b[39m base\u001b[39m.\u001b[39;49mcorr()\u001b[39m.\u001b[39;49mto_dict()[\u001b[39m'\u001b[39;49m\u001b[39mЗатраты на рекламу,y.e.(Xi)\u001b[39;49m\u001b[39m'\u001b[39;49m][\n\u001b[1;32m      2\u001b[0m           \u001b[39m'\u001b[39m\u001b[39mКоличество туристов воспользовавшихся услугами фирмы (Yi)\u001b[39m\u001b[39m'\u001b[39m] \u001b[39m*\u001b[39m sqrt(\u001b[39m20\u001b[39m \u001b[39m-\u001b[39m \u001b[39m2\u001b[39m) \u001b[39m/\u001b[39m sqrt(\n\u001b[1;32m      3\u001b[0m     \u001b[39m1\u001b[39m \u001b[39m-\u001b[39m base\u001b[39m.\u001b[39mcorr()\u001b[39m.\u001b[39mto_dict()[\u001b[39m'\u001b[39m\u001b[39mЗатраты на рекламу,y.e.(Xi)\u001b[39m\u001b[39m'\u001b[39m][\n\u001b[1;32m      4\u001b[0m         \u001b[39m'\u001b[39m\u001b[39mКоличество туристов воспользовавшихся услугами фирмы (Yi)\u001b[39m\u001b[39m'\u001b[39m] \u001b[39m*\u001b[39m\u001b[39m*\u001b[39m \u001b[39m2\u001b[39m)\n\u001b[1;32m      5\u001b[0m \u001b[39mprint\u001b[39m(\u001b[39m'\u001b[39m\u001b[39mt-статистика Стюдента равна: \u001b[39m\u001b[39m'\u001b[39m, res)\n",
      "\u001b[0;31mKeyError\u001b[0m: 'Затраты на рекламу,y.e.(Xi)'"
     ]
    }
   ],
   "source": [
    "res = base.corr().to_dict()['Затраты на рекламу,y.e.(Xi)'][\n",
    "          'Количество туристов воспользовавшихся услугами фирмы (Yi)'] * sqrt(20 - 2) / sqrt(\n",
    "    1 - base.corr().to_dict()['Затраты на рекламу,y.e.(Xi)'][\n",
    "        'Количество туристов воспользовавшихся услугами фирмы (Yi)'] ** 2)\n",
    "print('t-статистика Стюдента равна: ', res)"
   ]
  },
  {
   "cell_type": "code",
   "execution_count": null,
   "metadata": {
    "collapsed": false
   },
   "outputs": [
    {
     "name": "stdout",
     "output_type": "stream",
     "text": [
      "для нашей задачи, что бы отвергнуть нулевую гипотезу нужно, чтобы критерий стьюдента был:\n",
      " либо больше 1,734\n",
      "либо меньше -1,734\n",
      "\n",
      "Наше значение больше порогового интервала- следовательно мы отвергаем нулевую гипотезу в сторону альтернативной\n"
     ]
    }
   ],
   "source": [
    "print('для нашей задачи, что бы отвергнуть нулевую гипотезу нужно, чтобы критерий стьюдента был:\\n',\n",
    "      'либо больше 1,734\\n'\n",
    "      'либо меньше -1,734\\n')\n",
    "if res > 1.734:\n",
    "    print(\n",
    "        'Наше значение больше порогового интервала- следовательно мы отвергаем нулевую гипотезу в сторону альтернативной')\n",
    "elif res < -1.734:\n",
    "    print(\n",
    "        'Наше значение меньше порогового интервала- следовательно мы отвергаем нулевую гипотезу в сторону альтернативной')\n",
    "else:\n",
    "    print(\n",
    "        'Наше значение входит в  пороговый интервала- следовательно мы не отвергаем нулевую гипотезу в сторону альтернативной')\n"
   ]
  },
  {
   "cell_type": "markdown",
   "metadata": {
    "collapsed": false
   },
   "source": [
    "Вычислим коэфиценты регрессии - a,b"
   ]
  },
  {
   "cell_type": "markdown",
   "metadata": {
    "collapsed": false
   },
   "source": [
    " # Задание 2. Построение регрессионной модели."
   ]
  },
  {
   "cell_type": "markdown",
   "metadata": {
    "collapsed": false
   },
   "source": [
    "Выведем получившиеся кф линейной регрессии"
   ]
  },
  {
   "cell_type": "code",
   "execution_count": 6,
   "metadata": {
    "collapsed": false
   },
   "outputs": [
    {
     "ename": "KeyError",
     "evalue": "'Затраты на рекламу,y.e.(Xi)'",
     "output_type": "error",
     "traceback": [
      "\u001b[0;31m---------------------------------------------------------------------------\u001b[0m",
      "\u001b[0;31mKeyError\u001b[0m                                  Traceback (most recent call last)",
      "File \u001b[0;32m~/.local/lib/python3.10/site-packages/pandas/core/indexes/base.py:3621\u001b[0m, in \u001b[0;36mIndex.get_loc\u001b[0;34m(self, key, method, tolerance)\u001b[0m\n\u001b[1;32m   3620\u001b[0m \u001b[39mtry\u001b[39;00m:\n\u001b[0;32m-> 3621\u001b[0m     \u001b[39mreturn\u001b[39;00m \u001b[39mself\u001b[39;49m\u001b[39m.\u001b[39;49m_engine\u001b[39m.\u001b[39;49mget_loc(casted_key)\n\u001b[1;32m   3622\u001b[0m \u001b[39mexcept\u001b[39;00m \u001b[39mKeyError\u001b[39;00m \u001b[39mas\u001b[39;00m err:\n",
      "File \u001b[0;32m~/.local/lib/python3.10/site-packages/pandas/_libs/index.pyx:136\u001b[0m, in \u001b[0;36mpandas._libs.index.IndexEngine.get_loc\u001b[0;34m()\u001b[0m\n",
      "File \u001b[0;32m~/.local/lib/python3.10/site-packages/pandas/_libs/index.pyx:163\u001b[0m, in \u001b[0;36mpandas._libs.index.IndexEngine.get_loc\u001b[0;34m()\u001b[0m\n",
      "File \u001b[0;32mpandas/_libs/hashtable_class_helper.pxi:5198\u001b[0m, in \u001b[0;36mpandas._libs.hashtable.PyObjectHashTable.get_item\u001b[0;34m()\u001b[0m\n",
      "File \u001b[0;32mpandas/_libs/hashtable_class_helper.pxi:5206\u001b[0m, in \u001b[0;36mpandas._libs.hashtable.PyObjectHashTable.get_item\u001b[0;34m()\u001b[0m\n",
      "\u001b[0;31mKeyError\u001b[0m: 'Затраты на рекламу,y.e.(Xi)'",
      "\nThe above exception was the direct cause of the following exception:\n",
      "\u001b[0;31mKeyError\u001b[0m                                  Traceback (most recent call last)",
      "Cell \u001b[0;32mIn [6], line 1\u001b[0m\n\u001b[0;32m----> 1\u001b[0m a, b \u001b[39m=\u001b[39m coef_reg(base[\u001b[39m'\u001b[39;49m\u001b[39mЗатраты на рекламу,y.e.(Xi)\u001b[39;49m\u001b[39m'\u001b[39;49m], base[\u001b[39m'\u001b[39m\u001b[39mКоличество туристов воспользовавшихся услугами фирмы (Yi)\u001b[39m\u001b[39m'\u001b[39m])\n\u001b[1;32m      2\u001b[0m \u001b[39mprint\u001b[39m(\u001b[39mf\u001b[39m\u001b[39m'\u001b[39m\u001b[39my = \u001b[39m\u001b[39m{\u001b[39;00ma\u001b[39m}\u001b[39;00m\u001b[39m*x + \u001b[39m\u001b[39m{\u001b[39;00mb\u001b[39m}\u001b[39;00m\u001b[39m'\u001b[39m)\n",
      "File \u001b[0;32m~/.local/lib/python3.10/site-packages/pandas/core/frame.py:3505\u001b[0m, in \u001b[0;36mDataFrame.__getitem__\u001b[0;34m(self, key)\u001b[0m\n\u001b[1;32m   3503\u001b[0m \u001b[39mif\u001b[39;00m \u001b[39mself\u001b[39m\u001b[39m.\u001b[39mcolumns\u001b[39m.\u001b[39mnlevels \u001b[39m>\u001b[39m \u001b[39m1\u001b[39m:\n\u001b[1;32m   3504\u001b[0m     \u001b[39mreturn\u001b[39;00m \u001b[39mself\u001b[39m\u001b[39m.\u001b[39m_getitem_multilevel(key)\n\u001b[0;32m-> 3505\u001b[0m indexer \u001b[39m=\u001b[39m \u001b[39mself\u001b[39;49m\u001b[39m.\u001b[39;49mcolumns\u001b[39m.\u001b[39;49mget_loc(key)\n\u001b[1;32m   3506\u001b[0m \u001b[39mif\u001b[39;00m is_integer(indexer):\n\u001b[1;32m   3507\u001b[0m     indexer \u001b[39m=\u001b[39m [indexer]\n",
      "File \u001b[0;32m~/.local/lib/python3.10/site-packages/pandas/core/indexes/base.py:3623\u001b[0m, in \u001b[0;36mIndex.get_loc\u001b[0;34m(self, key, method, tolerance)\u001b[0m\n\u001b[1;32m   3621\u001b[0m     \u001b[39mreturn\u001b[39;00m \u001b[39mself\u001b[39m\u001b[39m.\u001b[39m_engine\u001b[39m.\u001b[39mget_loc(casted_key)\n\u001b[1;32m   3622\u001b[0m \u001b[39mexcept\u001b[39;00m \u001b[39mKeyError\u001b[39;00m \u001b[39mas\u001b[39;00m err:\n\u001b[0;32m-> 3623\u001b[0m     \u001b[39mraise\u001b[39;00m \u001b[39mKeyError\u001b[39;00m(key) \u001b[39mfrom\u001b[39;00m \u001b[39merr\u001b[39;00m\n\u001b[1;32m   3624\u001b[0m \u001b[39mexcept\u001b[39;00m \u001b[39mTypeError\u001b[39;00m:\n\u001b[1;32m   3625\u001b[0m     \u001b[39m# If we have a listlike key, _check_indexing_error will raise\u001b[39;00m\n\u001b[1;32m   3626\u001b[0m     \u001b[39m#  InvalidIndexError. Otherwise we fall through and re-raise\u001b[39;00m\n\u001b[1;32m   3627\u001b[0m     \u001b[39m#  the TypeError.\u001b[39;00m\n\u001b[1;32m   3628\u001b[0m     \u001b[39mself\u001b[39m\u001b[39m.\u001b[39m_check_indexing_error(key)\n",
      "\u001b[0;31mKeyError\u001b[0m: 'Затраты на рекламу,y.e.(Xi)'"
     ]
    }
   ],
   "source": [
    "a, b = coef_reg(base['Затраты на рекламу,y.e.(Xi)'], base['Количество туристов воспользовавшихся услугами фирмы (Yi)'])\n",
    "print(f'y = {a}*x + {b}')\n"
   ]
  },
  {
   "cell_type": "markdown",
   "metadata": {
    "collapsed": false
   },
   "source": [
    "Построим графическую интерпритацию"
   ]
  },
  {
   "cell_type": "code",
   "execution_count": 7,
   "metadata": {
    "collapsed": false
   },
   "outputs": [
    {
     "ename": "KeyError",
     "evalue": "'Затраты на рекламу,y.e.(Xi)'",
     "output_type": "error",
     "traceback": [
      "\u001b[0;31m---------------------------------------------------------------------------\u001b[0m",
      "\u001b[0;31mKeyError\u001b[0m                                  Traceback (most recent call last)",
      "File \u001b[0;32m~/.local/lib/python3.10/site-packages/pandas/core/indexes/base.py:3621\u001b[0m, in \u001b[0;36mIndex.get_loc\u001b[0;34m(self, key, method, tolerance)\u001b[0m\n\u001b[1;32m   3620\u001b[0m \u001b[39mtry\u001b[39;00m:\n\u001b[0;32m-> 3621\u001b[0m     \u001b[39mreturn\u001b[39;00m \u001b[39mself\u001b[39;49m\u001b[39m.\u001b[39;49m_engine\u001b[39m.\u001b[39;49mget_loc(casted_key)\n\u001b[1;32m   3622\u001b[0m \u001b[39mexcept\u001b[39;00m \u001b[39mKeyError\u001b[39;00m \u001b[39mas\u001b[39;00m err:\n",
      "File \u001b[0;32m~/.local/lib/python3.10/site-packages/pandas/_libs/index.pyx:136\u001b[0m, in \u001b[0;36mpandas._libs.index.IndexEngine.get_loc\u001b[0;34m()\u001b[0m\n",
      "File \u001b[0;32m~/.local/lib/python3.10/site-packages/pandas/_libs/index.pyx:163\u001b[0m, in \u001b[0;36mpandas._libs.index.IndexEngine.get_loc\u001b[0;34m()\u001b[0m\n",
      "File \u001b[0;32mpandas/_libs/hashtable_class_helper.pxi:5198\u001b[0m, in \u001b[0;36mpandas._libs.hashtable.PyObjectHashTable.get_item\u001b[0;34m()\u001b[0m\n",
      "File \u001b[0;32mpandas/_libs/hashtable_class_helper.pxi:5206\u001b[0m, in \u001b[0;36mpandas._libs.hashtable.PyObjectHashTable.get_item\u001b[0;34m()\u001b[0m\n",
      "\u001b[0;31mKeyError\u001b[0m: 'Затраты на рекламу,y.e.(Xi)'",
      "\nThe above exception was the direct cause of the following exception:\n",
      "\u001b[0;31mKeyError\u001b[0m                                  Traceback (most recent call last)",
      "Cell \u001b[0;32mIn [7], line 1\u001b[0m\n\u001b[0;32m----> 1\u001b[0m func(base, \u001b[39m'\u001b[39;49m\u001b[39mЗатраты на рекламу,y.e.(Xi)\u001b[39;49m\u001b[39m'\u001b[39;49m, \u001b[39m'\u001b[39;49m\u001b[39mКоличество туристов воспользовавшихся услугами фирмы (Yi)\u001b[39;49m\u001b[39m'\u001b[39;49m,\u001b[39m'\u001b[39;49m\u001b[39mРегрессия\u001b[39;49m\u001b[39m'\u001b[39;49m,with_line\u001b[39m=\u001b[39;49m\u001b[39m1\u001b[39;49m)\n",
      "Cell \u001b[0;32mIn [2], line 9\u001b[0m, in \u001b[0;36mfunc\u001b[0;34m(base, name_X, name_Y, name_graf, with_line)\u001b[0m\n\u001b[1;32m      8\u001b[0m \u001b[39mdef\u001b[39;00m \u001b[39mfunc\u001b[39m(base, name_X, name_Y,name_graf,with_line \u001b[39m=\u001b[39m \u001b[39mNone\u001b[39;00m):\n\u001b[0;32m----> 9\u001b[0m     a, b \u001b[39m=\u001b[39m coef_reg(base[name_X], base[name_Y])\n\u001b[1;32m     11\u001b[0m     \u001b[39mif\u001b[39;00m with_line \u001b[39m==\u001b[39m \u001b[39m1\u001b[39m:\n\u001b[1;32m     12\u001b[0m         line \u001b[39m=\u001b[39m [a \u001b[39m*\u001b[39m i \u001b[39m+\u001b[39m b \u001b[39mfor\u001b[39;00m i \u001b[39min\u001b[39;00m base[name_X]]\n",
      "File \u001b[0;32m~/.local/lib/python3.10/site-packages/pandas/core/frame.py:3505\u001b[0m, in \u001b[0;36mDataFrame.__getitem__\u001b[0;34m(self, key)\u001b[0m\n\u001b[1;32m   3503\u001b[0m \u001b[39mif\u001b[39;00m \u001b[39mself\u001b[39m\u001b[39m.\u001b[39mcolumns\u001b[39m.\u001b[39mnlevels \u001b[39m>\u001b[39m \u001b[39m1\u001b[39m:\n\u001b[1;32m   3504\u001b[0m     \u001b[39mreturn\u001b[39;00m \u001b[39mself\u001b[39m\u001b[39m.\u001b[39m_getitem_multilevel(key)\n\u001b[0;32m-> 3505\u001b[0m indexer \u001b[39m=\u001b[39m \u001b[39mself\u001b[39;49m\u001b[39m.\u001b[39;49mcolumns\u001b[39m.\u001b[39;49mget_loc(key)\n\u001b[1;32m   3506\u001b[0m \u001b[39mif\u001b[39;00m is_integer(indexer):\n\u001b[1;32m   3507\u001b[0m     indexer \u001b[39m=\u001b[39m [indexer]\n",
      "File \u001b[0;32m~/.local/lib/python3.10/site-packages/pandas/core/indexes/base.py:3623\u001b[0m, in \u001b[0;36mIndex.get_loc\u001b[0;34m(self, key, method, tolerance)\u001b[0m\n\u001b[1;32m   3621\u001b[0m     \u001b[39mreturn\u001b[39;00m \u001b[39mself\u001b[39m\u001b[39m.\u001b[39m_engine\u001b[39m.\u001b[39mget_loc(casted_key)\n\u001b[1;32m   3622\u001b[0m \u001b[39mexcept\u001b[39;00m \u001b[39mKeyError\u001b[39;00m \u001b[39mas\u001b[39;00m err:\n\u001b[0;32m-> 3623\u001b[0m     \u001b[39mraise\u001b[39;00m \u001b[39mKeyError\u001b[39;00m(key) \u001b[39mfrom\u001b[39;00m \u001b[39merr\u001b[39;00m\n\u001b[1;32m   3624\u001b[0m \u001b[39mexcept\u001b[39;00m \u001b[39mTypeError\u001b[39;00m:\n\u001b[1;32m   3625\u001b[0m     \u001b[39m# If we have a listlike key, _check_indexing_error will raise\u001b[39;00m\n\u001b[1;32m   3626\u001b[0m     \u001b[39m#  InvalidIndexError. Otherwise we fall through and re-raise\u001b[39;00m\n\u001b[1;32m   3627\u001b[0m     \u001b[39m#  the TypeError.\u001b[39;00m\n\u001b[1;32m   3628\u001b[0m     \u001b[39mself\u001b[39m\u001b[39m.\u001b[39m_check_indexing_error(key)\n",
      "\u001b[0;31mKeyError\u001b[0m: 'Затраты на рекламу,y.e.(Xi)'"
     ]
    }
   ],
   "source": [
    "func(base, 'Затраты на рекламу,y.e.(Xi)', 'Количество туристов воспользовавшихся услугами фирмы (Yi)','Регрессия',with_line=1)\n"
   ]
  },
  {
   "cell_type": "markdown",
   "metadata": {
    "collapsed": false
   },
   "source": [
    "# Задание 3. Выбор наиболее точной модели связи.\n",
    "Условие задачи. Исследуется зависимость дозы облучения от толщины слоя защитного\n",
    "материала. Имеются результаты 10 экспериментов (см. рис.6).\n",
    "Имеются основания предполагать, что зависимость дозы (функция) от толщины\n",
    "слоя материала (аргумент) может выражаться одним из следующих уравнений:\n",
    "- Y=A0 + A1*X (линейная модель);\n",
    "- Y=A0*X**1A(степенная модель);\n",
    "- Y=A0+A1/X (гиперболическая модель).\n",
    "Выберите наиболее точную модель и определите ее коэффициенты."
   ]
  },
  {
   "cell_type": "code",
   "execution_count": null,
   "metadata": {
    "collapsed": false
   },
   "outputs": [
    {
     "data": {
      "text/html": [
       "<div>\n",
       "<style scoped>\n",
       "    .dataframe tbody tr th:only-of-type {\n",
       "        vertical-align: middle;\n",
       "    }\n",
       "\n",
       "    .dataframe tbody tr th {\n",
       "        vertical-align: top;\n",
       "    }\n",
       "\n",
       "    .dataframe thead th {\n",
       "        text-align: right;\n",
       "    }\n",
       "</style>\n",
       "<table border=\"1\" class=\"dataframe\">\n",
       "  <thead>\n",
       "    <tr style=\"text-align: right;\">\n",
       "      <th></th>\n",
       "      <th>Толщина слоя, X</th>\n",
       "      <th>Дюса, Y</th>\n",
       "    </tr>\n",
       "  </thead>\n",
       "  <tbody>\n",
       "    <tr>\n",
       "      <th>0</th>\n",
       "      <td>15</td>\n",
       "      <td>22</td>\n",
       "    </tr>\n",
       "    <tr>\n",
       "      <th>1</th>\n",
       "      <td>8</td>\n",
       "      <td>30</td>\n",
       "    </tr>\n",
       "    <tr>\n",
       "      <th>2</th>\n",
       "      <td>14</td>\n",
       "      <td>23</td>\n",
       "    </tr>\n",
       "    <tr>\n",
       "      <th>3</th>\n",
       "      <td>12</td>\n",
       "      <td>24</td>\n",
       "    </tr>\n",
       "    <tr>\n",
       "      <th>4</th>\n",
       "      <td>10</td>\n",
       "      <td>26</td>\n",
       "    </tr>\n",
       "    <tr>\n",
       "      <th>5</th>\n",
       "      <td>7</td>\n",
       "      <td>30</td>\n",
       "    </tr>\n",
       "    <tr>\n",
       "      <th>6</th>\n",
       "      <td>20</td>\n",
       "      <td>10</td>\n",
       "    </tr>\n",
       "    <tr>\n",
       "      <th>7</th>\n",
       "      <td>5</td>\n",
       "      <td>33</td>\n",
       "    </tr>\n",
       "    <tr>\n",
       "      <th>8</th>\n",
       "      <td>24</td>\n",
       "      <td>8</td>\n",
       "    </tr>\n",
       "    <tr>\n",
       "      <th>9</th>\n",
       "      <td>18</td>\n",
       "      <td>14</td>\n",
       "    </tr>\n",
       "  </tbody>\n",
       "</table>\n",
       "</div>"
      ],
      "text/plain": [
       "   Толщина слоя, X  Дюса, Y\n",
       "0               15       22\n",
       "1                8       30\n",
       "2               14       23\n",
       "3               12       24\n",
       "4               10       26\n",
       "5                7       30\n",
       "6               20       10\n",
       "7                5       33\n",
       "8               24        8\n",
       "9               18       14"
      ]
     },
     "execution_count": 87,
     "metadata": {},
     "output_type": "execute_result"
    }
   ],
   "source": [
    "pred_base2 = {\n",
    "    'Толщина слоя, X': [15, 8, 14, 12, 10, 7, 20, 5, 24, 18],\n",
    "    'Дюса, Y': [22, 30, 23, 24, 26, 30, 10, 33, 8, 14]\n",
    "}\n",
    "base2 = pd.DataFrame(pred_base2)\n",
    "base2"
   ]
  },
  {
   "cell_type": "code",
   "execution_count": null,
   "metadata": {
    "collapsed": false
   },
   "outputs": [
    {
     "data": {
      "image/png": "[encoded data removed]",
      "text/plain": [
       "<Figure size 640x480 with 1 Axes>"
      ]
     },
     "metadata": {},
     "output_type": "display_data"
    }
   ],
   "source": [
    "\n",
    "func(base2 ,'Толщина слоя, X', 'Дюса, Y','Регрессия',with_line=1)\n"
   ]
  },
  {
   "cell_type": "markdown",
   "metadata": {
    "collapsed": false
   },
   "source": [
    "# Задание 4\n",
    "А). Имеются данные по двум экономическим показателям X и Y. Необходимо:\n",
    "- Вычислить коэффициент корреляции.\n",
    "- Построить корреляционное поле.\n",
    "- Построить регрессионную модель"
   ]
  },
  {
   "cell_type": "code",
   "execution_count": null,
   "metadata": {
    "collapsed": false
   },
   "outputs": [
    {
     "data": {
      "text/html": [
       "<div>\n",
       "<style scoped>\n",
       "    .dataframe tbody tr th:only-of-type {\n",
       "        vertical-align: middle;\n",
       "    }\n",
       "\n",
       "    .dataframe tbody tr th {\n",
       "        vertical-align: top;\n",
       "    }\n",
       "\n",
       "    .dataframe thead th {\n",
       "        text-align: right;\n",
       "    }\n",
       "</style>\n",
       "<table border=\"1\" class=\"dataframe\">\n",
       "  <thead>\n",
       "    <tr style=\"text-align: right;\">\n",
       "      <th></th>\n",
       "      <th>Цена(X)</th>\n",
       "      <th>Спрос(Y)</th>\n",
       "    </tr>\n",
       "  </thead>\n",
       "  <tbody>\n",
       "    <tr>\n",
       "      <th>0</th>\n",
       "      <td>997</td>\n",
       "      <td>120</td>\n",
       "    </tr>\n",
       "    <tr>\n",
       "      <th>1</th>\n",
       "      <td>987</td>\n",
       "      <td>140</td>\n",
       "    </tr>\n",
       "    <tr>\n",
       "      <th>2</th>\n",
       "      <td>1002</td>\n",
       "      <td>115</td>\n",
       "    </tr>\n",
       "    <tr>\n",
       "      <th>3</th>\n",
       "      <td>1012</td>\n",
       "      <td>100</td>\n",
       "    </tr>\n",
       "    <tr>\n",
       "      <th>4</th>\n",
       "      <td>1011</td>\n",
       "      <td>100</td>\n",
       "    </tr>\n",
       "    <tr>\n",
       "      <th>5</th>\n",
       "      <td>1017</td>\n",
       "      <td>90</td>\n",
       "    </tr>\n",
       "    <tr>\n",
       "      <th>6</th>\n",
       "      <td>978</td>\n",
       "      <td>150</td>\n",
       "    </tr>\n",
       "    <tr>\n",
       "      <th>7</th>\n",
       "      <td>997</td>\n",
       "      <td>140</td>\n",
       "    </tr>\n",
       "    <tr>\n",
       "      <th>8</th>\n",
       "      <td>1010</td>\n",
       "      <td>95</td>\n",
       "    </tr>\n",
       "    <tr>\n",
       "      <th>9</th>\n",
       "      <td>989</td>\n",
       "      <td>155</td>\n",
       "    </tr>\n",
       "  </tbody>\n",
       "</table>\n",
       "</div>"
      ],
      "text/plain": [
       "   Цена(X)  Спрос(Y)\n",
       "0      997       120\n",
       "1      987       140\n",
       "2     1002       115\n",
       "3     1012       100\n",
       "4     1011       100\n",
       "5     1017        90\n",
       "6      978       150\n",
       "7      997       140\n",
       "8     1010        95\n",
       "9      989       155"
      ]
     },
     "execution_count": 89,
     "metadata": {},
     "output_type": "execute_result"
    }
   ],
   "source": [
    "pred_base4a = {\n",
    "    'Цена(X)': [997, 987, 1002, 1012, 1011, 1017, 978, 997, 1010, 989],\n",
    "    'Спрос(Y)': [120, 140, 115, 100, 100, 90, 150, 140, 95, 155]\n",
    "}\n",
    "base4a = pd.DataFrame(pred_base4a)\n",
    "base4a"
   ]
  },
  {
   "cell_type": "code",
   "execution_count": null,
   "metadata": {
    "collapsed": false
   },
   "outputs": [
    {
     "name": "stdout",
     "output_type": "stream",
     "text": [
      "Кф корреляции равен:  -0.938523317014122\n",
      "Регрессионная модель: y = -1.789655172413793*x + 1910.155172413793\n"
     ]
    },
    {
     "data": {
      "image/png": "[encoded data removed]",
      "text/plain": [
       "<Figure size 640x480 with 1 Axes>"
      ]
     },
     "metadata": {},
     "output_type": "display_data"
    }
   ],
   "source": [
    "func(base4a, *pred_base4a.keys(),'Корреляционное поле')"
   ]
  },
  {
   "cell_type": "markdown",
   "metadata": {
    "collapsed": false
   },
   "source": [
    "Б). Установить, зависит ли количество посетителей музея и посетителей парка от числа ясных дней\n",
    "за определенный период. Для этого:\n",
    "- Вычислить коэффициенты корреляции.\n",
    "- Построить корреляционное поле.\n",
    "- Построить регрессионную модель (графическим способом и с помощью инструмента\n",
    "Регрессия)."
   ]
  },
  {
   "cell_type": "code",
   "execution_count": null,
   "metadata": {
    "collapsed": false
   },
   "outputs": [
    {
     "data": {
      "text/html": [
       "<div>\n",
       "<style scoped>\n",
       "    .dataframe tbody tr th:only-of-type {\n",
       "        vertical-align: middle;\n",
       "    }\n",
       "\n",
       "    .dataframe tbody tr th {\n",
       "        vertical-align: top;\n",
       "    }\n",
       "\n",
       "    .dataframe thead th {\n",
       "        text-align: right;\n",
       "    }\n",
       "</style>\n",
       "<table border=\"1\" class=\"dataframe\">\n",
       "  <thead>\n",
       "    <tr style=\"text-align: right;\">\n",
       "      <th></th>\n",
       "      <th>Число ясных дней(Х)</th>\n",
       "      <th>Количество посетителей музея(Y)</th>\n",
       "      <th>Количество посетителей парка(Y)</th>\n",
       "    </tr>\n",
       "  </thead>\n",
       "  <tbody>\n",
       "    <tr>\n",
       "      <th>0</th>\n",
       "      <td>8</td>\n",
       "      <td>495</td>\n",
       "      <td>132</td>\n",
       "    </tr>\n",
       "    <tr>\n",
       "      <th>1</th>\n",
       "      <td>14</td>\n",
       "      <td>504</td>\n",
       "      <td>348</td>\n",
       "    </tr>\n",
       "    <tr>\n",
       "      <th>2</th>\n",
       "      <td>20</td>\n",
       "      <td>380</td>\n",
       "      <td>643</td>\n",
       "    </tr>\n",
       "    <tr>\n",
       "      <th>3</th>\n",
       "      <td>25</td>\n",
       "      <td>305</td>\n",
       "      <td>865</td>\n",
       "    </tr>\n",
       "    <tr>\n",
       "      <th>4</th>\n",
       "      <td>20</td>\n",
       "      <td>348</td>\n",
       "      <td>743</td>\n",
       "    </tr>\n",
       "    <tr>\n",
       "      <th>5</th>\n",
       "      <td>15</td>\n",
       "      <td>465</td>\n",
       "      <td>541</td>\n",
       "    </tr>\n",
       "  </tbody>\n",
       "</table>\n",
       "</div>"
      ],
      "text/plain": [
       "   Число ясных дней(Х)  Количество посетителей музея(Y)  \\\n",
       "0                    8                              495   \n",
       "1                   14                              504   \n",
       "2                   20                              380   \n",
       "3                   25                              305   \n",
       "4                   20                              348   \n",
       "5                   15                              465   \n",
       "\n",
       "   Количество посетителей парка(Y)  \n",
       "0                              132  \n",
       "1                              348  \n",
       "2                              643  \n",
       "3                              865  \n",
       "4                              743  \n",
       "5                              541  "
      ]
     },
     "execution_count": 91,
     "metadata": {},
     "output_type": "execute_result"
    }
   ],
   "source": [
    "pred_base4b = {\n",
    "    'Число ясных дней(Х)': [8, 14, 20, 25, 20, 15],\n",
    "    'Количество посетителей музея(Y)': [495, 504, 380, 305, 348, 465],\n",
    "    'Количество посетителей парка(Y)': [132, 348, 643, 865, 743, 541]\n",
    "}\n",
    "base4b = pd.DataFrame(pred_base4b)\n",
    "base4b"
   ]
  },
  {
   "cell_type": "code",
   "execution_count": null,
   "metadata": {
    "collapsed": false
   },
   "outputs": [
    {
     "name": "stdout",
     "output_type": "stream",
     "text": [
      "Кф корреляции равен:  -0.9207393698358727\n",
      "Регрессионная модель: y = -12.914772727272727*x + 635.717803030303\n"
     ]
    },
    {
     "data": {
      "image/png": "[encoded data removed]",
      "text/plain": [
       "<Figure size 640x480 with 1 Axes>"
      ]
     },
     "metadata": {},
     "output_type": "display_data"
    }
   ],
   "source": [
    "func(base4b, list(pred_base4b.keys())[0], list(pred_base4b.keys())[1],'Корреляционное поле')"
   ]
  },
  {
   "cell_type": "code",
   "execution_count": null,
   "metadata": {
    "collapsed": false
   },
   "outputs": [
    {
     "name": "stdout",
     "output_type": "stream",
     "text": [
      "Кф корреляции равен:  0.9745755882322944\n",
      "Регрессионная модель: y = 44.11363636363637*x + -204.598484848485\n"
     ]
    },
    {
     "data": {
      "image/png": "[encoded data removed]",
      "text/plain": [
       "<Figure size 640x480 with 1 Axes>"
      ]
     },
     "metadata": {},
     "output_type": "display_data"
    }
   ],
   "source": [
    "func(base4b, list(pred_base4b.keys())[0], list(pred_base4b.keys())[2],'Корреляционное поле')"
   ]
  }
 ],
 "metadata": {
  "kernelspec": {
   "display_name": "Python 3.10.6 64-bit",
   "language": "python",
   "name": "python3"
  },
  "language_info": {
   "codemirror_mode": {
    "name": "ipython",
    "version": 3
   },
   "file_extension": ".py",
   "mimetype": "text/x-python",
   "name": "python",
   "nbconvert_exporter": "python",
   "pygments_lexer": "ipython3",
   "version": "3.10.6"
  },
  "vscode": {
   "interpreter": {
    "hash": "e7370f93d1d0cde622a1f8e1c04877d8463912d04d973331ad4851f04de6915a"
   }
  }
 },
 "nbformat": 4,
 "nbformat_minor": 0
}
