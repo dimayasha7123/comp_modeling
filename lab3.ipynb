{
 "cells": [
  {
   "cell_type": "markdown",
   "metadata": {},
   "source": [
    "### Импортим либы"
   ]
  },
  {
   "cell_type": "code",
   "execution_count": 230,
   "metadata": {},
   "outputs": [],
   "source": [
    "import random\n",
    "import math\n",
    "from typing import Callable\n",
    "import tabulate"
   ]
  },
  {
   "cell_type": "markdown",
   "metadata": {},
   "source": [
    "### Делаем два генератора случайных величин с равномерным и экспоненциальным распределением\n",
    "\n",
    "Вызывать так:\n",
    "``` python\n",
    "obj = even_int_gen(3, 5)\n",
    "next(obj)\n",
    "# 3, или 4, или даже 5...\n",
    "# Жеееесть...\n",
    "```"
   ]
  },
  {
   "cell_type": "code",
   "execution_count": 259,
   "metadata": {},
   "outputs": [],
   "source": [
    "def even_int_gen(a: int, b: int) -> int:\n",
    "    # чтобы округление не уменьшало количество генераций крайних чисел вдвое\n",
    "    a -= 0.5 \n",
    "    b += 0.5\n",
    "    while True:\n",
    "        yield round(a + random.random() * (b - a))\n",
    "\n",
    "# тут округление тоже возможно что-то меняет, но мне все равно\n",
    "def exp_int_gen(l: float) -> int:\n",
    "    while True:\n",
    "        yield (-1) * math.log(random.random()) / l"
   ]
  },
  {
   "cell_type": "markdown",
   "metadata": {},
   "source": [
    "### Напишем функцию, делающую аналитический расчет вероятности для системы СМО Эрланга"
   ]
  },
  {
   "cell_type": "code",
   "execution_count": 232,
   "metadata": {},
   "outputs": [],
   "source": [
    "def erlang_model(l: float, u: float, stands_count: int) -> float:\n",
    "    alpha = l / u\n",
    "    n = stands_count\n",
    "    up = alpha ** n / math.factorial(n)\n",
    "    down = 1\n",
    "    for i in range(1, n + 1):\n",
    "        down += alpha ** i / math.factorial(i)\n",
    "    return 1 - up / down"
   ]
  },
  {
   "cell_type": "markdown",
   "metadata": {},
   "source": [
    "### Тестим"
   ]
  },
  {
   "cell_type": "code",
   "execution_count": 248,
   "metadata": {},
   "outputs": [
    {
     "name": "stdout",
     "output_type": "stream",
     "text": [
      "λ = 0.95\n",
      "μ = 1\n",
      "╒═══════╤═══════════╕\n",
      "│   n_k │   p_priem │\n",
      "╞═══════╪═══════════╡\n",
      "│     1 │   0.51282 │\n",
      "├───────┼───────────┤\n",
      "│     2 │   0.81208 │\n",
      "├───────┼───────────┤\n",
      "│     3 │   0.94383 │\n",
      "├───────┼───────────┤\n",
      "│     4 │   0.98684 │\n",
      "├───────┼───────────┤\n",
      "│     5 │   0.99751 │\n",
      "├───────┼───────────┤\n",
      "│     6 │   0.99961 │\n",
      "├───────┼───────────┤\n",
      "│     7 │   0.99995 │\n",
      "╘═══════╧═══════════╛\n"
     ]
    }
   ],
   "source": [
    "l = 0.95\n",
    "u = 1\n",
    "\n",
    "table = []\n",
    "for chan in range(1, 8):\n",
    "    table.append([chan, erlang_model(l, u, chan)])\n",
    "\n",
    "print(\"λ =\", l)\n",
    "print(\"μ =\", u)\n",
    "\n",
    "headers = [\"n_k\", \"p_priem\"]\n",
    "print(tabulate.tabulate(table, headers=headers, tablefmt=\"fancy_grid\", floatfmt=\".5f\"))"
   ]
  },
  {
   "cell_type": "markdown",
   "metadata": {},
   "source": [
    "### Напишем функцию имитационного моделирования\n",
    "\n",
    "На вход идет:\n",
    "1. **items_count** - количество деталей для обработки\n",
    "2. **stands_count** - количество каналов (стендов) для обработки\n",
    "3. **release_gen** - генератор значений времени входного канала\n",
    "4. **check_gen** - генератор значений времени обработки на стенде\n",
    "\n",
    "Засчет того, что мы даем функции на вход генераторы, то можно дать как генератор равномерно распределенных чисел, так и генератор экспоненциально распределенных чисел.\n",
    "\n",
    "Это позволит легко, без переписывания функции в дальнейшем, отладить ее работу, сравнивая значения с СМО Эрланга, которая использует экспоненциальное распределение, а нам в дальнейшем понадобится равномерное."
   ]
  },
  {
   "cell_type": "code",
   "execution_count": 234,
   "metadata": {},
   "outputs": [],
   "source": [
    "# тут аннотации неоч верные, ибо yield требует SupprotsNext, а я пишу Callable\n",
    "def imit_model(items_count: int, stands_count: int,\n",
    "               release_gen: Callable[[int, int], int],\n",
    "               check_gen: Callable[[int, int], int]) -> float:\n",
    "\n",
    "    stands = [0 for _ in range(stands_count)]\n",
    "    not_checked = 0\n",
    "\n",
    "    for i in range(items_count):\n",
    "        rel_time = next(release_gen)\n",
    "\n",
    "        for j in range(len(stands)):\n",
    "            stands[j] = max(0, stands[j] - rel_time)\n",
    "\n",
    "        found_free = False\n",
    "        for j in range(len(stands)):\n",
    "            if stands[j] == 0:\n",
    "                stands[j] = next(check_gen)\n",
    "                found_free = True\n",
    "                break\n",
    "\n",
    "        if not found_free:\n",
    "            not_checked += 1\n",
    "\n",
    "    return (items_count - not_checked) / items_count"
   ]
  },
  {
   "cell_type": "markdown",
   "metadata": {},
   "source": [
    "### Тестим"
   ]
  },
  {
   "cell_type": "code",
   "execution_count": 250,
   "metadata": {},
   "outputs": [
    {
     "name": "stdout",
     "output_type": "stream",
     "text": [
      "λ = 0.95\n",
      "μ = 1\n",
      "Количество изделий на входе: 100000\n",
      "Контроль не менее 98.0 % изделий\n",
      "╒═══════╤════════════╤══════════╕\n",
      "│   n_k │   имитация │   Эрланг │\n",
      "╞═══════╪════════════╪══════════╡\n",
      "│     1 │    0.51599 │  0.51282 │\n",
      "├───────┼────────────┼──────────┤\n",
      "│     2 │    0.81310 │  0.81208 │\n",
      "├───────┼────────────┼──────────┤\n",
      "│     3 │    0.94273 │  0.94383 │\n",
      "├───────┼────────────┼──────────┤\n",
      "│     4 │    0.98667 │  0.98684 │\n",
      "╘═══════╧════════════╧══════════╛\n"
     ]
    }
   ],
   "source": [
    "l = 0.95\n",
    "u = 1\n",
    "release_gen = exp_int_gen(l)\n",
    "check_gen = exp_int_gen(u)\n",
    "\n",
    "need = 0.98\n",
    "items_count = 10**5\n",
    "stands_count = 1\n",
    "\n",
    "table = []\n",
    "while True:\n",
    "    result = imit_model(items_count, stands_count, release_gen, check_gen)\n",
    "    erl_result = erlang_model(l, u, stands_count)\n",
    "    table.append([stands_count, result, erl_result])\n",
    "    stands_count += 1\n",
    "    if result >= need:\n",
    "        break\n",
    "\n",
    "print(\"λ =\", l)\n",
    "print(\"μ =\", u)\n",
    "print(\"Количество изделий на входе:\", items_count)\n",
    "print(\"Контроль не менее\", str(need * 100), \"% изделий\")\n",
    "\n",
    "headers = [\"n_k\", \"имитация\", \"Эрланг\"]\n",
    "print(tabulate.tabulate(table, headers=headers, tablefmt=\"fancy_grid\", floatfmt=\".5f\"))"
   ]
  },
  {
   "cell_type": "markdown",
   "metadata": {},
   "source": [
    "Как видно, имитация показывает верный результат относительно аналитического решения СМО Эрланга"
   ]
  },
  {
   "cell_type": "markdown",
   "metadata": {},
   "source": [
    "### Проверим систему с равномерным распределением"
   ]
  },
  {
   "cell_type": "code",
   "execution_count": 270,
   "metadata": {},
   "outputs": [
    {
     "name": "stdout",
     "output_type": "stream",
     "text": [
      "a, b = [5, 15]\n",
      "c, d = [15, 25]\n",
      "Количество изделий на входе: 100000\n",
      "Контроль не менее 98.0 % изделий\n",
      "╒═══════╤════════════╕\n",
      "│   n_k │   p_priema │\n",
      "╞═══════╪════════════╡\n",
      "│     1 │    0.39900 │\n",
      "├───────┼────────────┤\n",
      "│     2 │    0.75510 │\n",
      "├───────┼────────────┤\n",
      "│     3 │    0.96651 │\n",
      "├───────┼────────────┤\n",
      "│     4 │    0.99950 │\n",
      "╘═══════╧════════════╛\n"
     ]
    }
   ],
   "source": [
    "a, b = 5, 15\n",
    "c, d = 15, 25\n",
    "release_gen = even_int_gen(a, b)\n",
    "check_gen = even_int_gen(c, d)\n",
    "\n",
    "need = 0.98\n",
    "items_count = 10**5\n",
    "stands_count = 1\n",
    "\n",
    "table = []\n",
    "while True:\n",
    "    result = imit_model(items_count, stands_count, release_gen, check_gen)\n",
    "    table.append([stands_count, result])\n",
    "    stands_count += 1\n",
    "    if result >= need:\n",
    "        break\n",
    "\n",
    "print(\"a, b =\", [a, b])\n",
    "print(\"c, d =\", [c, d])\n",
    "print(\"Количество изделий на входе:\", items_count)\n",
    "print(\"Контроль не менее\", str(need * 100), \"% изделий\")\n",
    "\n",
    "headers = [\"n_k\", \"p_priema\"]\n",
    "print(tabulate.tabulate(table, headers=headers, tablefmt=\"fancy_grid\", floatfmt=\".5f\"))"
   ]
  }
 ],
 "metadata": {
  "kernelspec": {
   "display_name": "Python 3.10.6 64-bit",
   "language": "python",
   "name": "python3"
  },
  "language_info": {
   "codemirror_mode": {
    "name": "ipython",
    "version": 3
   },
   "file_extension": ".py",
   "mimetype": "text/x-python",
   "name": "python",
   "nbconvert_exporter": "python",
   "pygments_lexer": "ipython3",
   "version": "3.10.6"
  },
  "orig_nbformat": 4,
  "vscode": {
   "interpreter": {
    "hash": "e7370f93d1d0cde622a1f8e1c04877d8463912d04d973331ad4851f04de6915a"
   }
  }
 },
 "nbformat": 4,
 "nbformat_minor": 2
}
