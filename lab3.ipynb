{
 "cells": [
  {
   "cell_type": "code",
   "execution_count": 214,
   "metadata": {},
   "outputs": [],
   "source": [
    "import random\n",
    "import math\n",
    "from typing import Callable"
   ]
  },
  {
   "cell_type": "code",
   "execution_count": 215,
   "metadata": {},
   "outputs": [],
   "source": [
    "def even_int_gen(a: int, b: int) -> int:\n",
    "    while True:\n",
    "        yield round(a + random.random()*(b-a))\n",
    "\n",
    "\n",
    "def exp_int_gen(l: float) -> int:\n",
    "    while True:\n",
    "        yield (-1) * math.log(random.random()) / l\n",
    "\n",
    "\n",
    "# тут аннотации неоч верные скорее всего, ибо yield требует SupprotsNext, а я пишу Callable\n",
    "def imit_model(items_count: int, stands_count: int,\n",
    "               release_gen: Callable[[int, int], int],\n",
    "               check_gen: Callable[[int, int], int]) -> float:\n",
    "\n",
    "    stands = [0 for _ in range(stands_count)]\n",
    "    not_checked = 0\n",
    "\n",
    "    for i in range(items_count):\n",
    "        rel_time = next(release_gen)\n",
    "\n",
    "        for j in range(len(stands)):\n",
    "            stands[j] = max(0, stands[j] - rel_time)\n",
    "\n",
    "        found_free = False\n",
    "        for j in range(len(stands)):\n",
    "            if stands[j] == 0:\n",
    "                stands[j] = next(check_gen)\n",
    "                found_free = True\n",
    "                break\n",
    "\n",
    "        if not found_free:\n",
    "            not_checked += 1\n",
    "\n",
    "    return (items_count - not_checked) / items_count\n"
   ]
  },
  {
   "cell_type": "code",
   "execution_count": 228,
   "metadata": {},
   "outputs": [
    {
     "name": "stdout",
     "output_type": "stream",
     "text": [
      "1 0.51336 0.5128205128205128\n",
      "2 0.81283 0.8120770432066632\n",
      "3 0.94248 0.9438334739065993\n",
      "4 0.98704 0.9868360512052669\n"
     ]
    }
   ],
   "source": [
    "# a, b = 5, 15\n",
    "# c, d = 15, 25\n",
    "# release_gen = even_int_gen(a, b)\n",
    "# check_gen = even_int_gen(c, d)\n",
    "\n",
    "\n",
    "l = 0.95\n",
    "u = 1\n",
    "release_gen = exp_int_gen(l)\n",
    "check_gen = exp_int_gen(u)\n",
    "\n",
    "\n",
    "def p_priema_by_erlang(l: float, u: float, stands_count: int) -> float:\n",
    "    alpha = l / u\n",
    "    n = stands_count\n",
    "    up = alpha**n / math.factorial(n)\n",
    "    down = 1\n",
    "    for i in range (1, n + 1):\n",
    "        down += alpha**i / math.factorial(i)\n",
    "    return 1 - up / down\n",
    "\n",
    "\n",
    "need = 0.98\n",
    "items_count = 10**5\n",
    "stands_count = 1\n",
    "\n",
    "while True:\n",
    "    result = imit_model(items_count, stands_count, release_gen, check_gen)\n",
    "    erl_result = p_priema_by_erlang(l, u, stands_count)\n",
    "    print(stands_count, result, erl_result)\n",
    "    stands_count += 1\n",
    "    if result >= need:\n",
    "        break\n",
    "\n",
    "# 1 0.5106\n",
    "# 2 0.8158\n",
    "# 3 0.9391\n",
    "# 4 0.9891\n"
   ]
  }
 ],
 "metadata": {
  "kernelspec": {
   "display_name": "Python 3.10.6 64-bit",
   "language": "python",
   "name": "python3"
  },
  "language_info": {
   "codemirror_mode": {
    "name": "ipython",
    "version": 3
   },
   "file_extension": ".py",
   "mimetype": "text/x-python",
   "name": "python",
   "nbconvert_exporter": "python",
   "pygments_lexer": "ipython3",
   "version": "3.10.6"
  },
  "orig_nbformat": 4,
  "vscode": {
   "interpreter": {
    "hash": "e7370f93d1d0cde622a1f8e1c04877d8463912d04d973331ad4851f04de6915a"
   }
  }
 },
 "nbformat": 4,
 "nbformat_minor": 2
}
