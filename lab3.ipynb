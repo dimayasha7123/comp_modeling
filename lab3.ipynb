{
 "cells": [
  {
   "cell_type": "code",
   "execution_count": 5,
   "metadata": {},
   "outputs": [],
   "source": [
    "import random\n",
    "from typing import Callable"
   ]
  },
  {
   "cell_type": "code",
   "execution_count": 99,
   "metadata": {},
   "outputs": [
    {
     "name": "stdout",
     "output_type": "stream",
     "text": [
      "1 0.4008\n",
      "2 0.7564\n",
      "3 0.9731\n",
      "4 0.9999\n",
      "5 1.0\n",
      "6 1.0\n",
      "7 1.0\n",
      "8 1.0\n",
      "9 1.0\n"
     ]
    }
   ],
   "source": [
    "def even_int_gen(a: int, b: int) -> int:\n",
    "    while True:\n",
    "        yield round(a + random.random()*(b-a))\n",
    "\n",
    "# тут аннотации неоч верные скорее всего, ибо yield требует SupprotsNext, а я пишу Callable\n",
    "def imit_model(items_count: int, stands_count: int,\n",
    "               release_gen: Callable[[int, int], int],\n",
    "               check_gen: Callable[[int, int], int]) -> float:\n",
    "    \n",
    "    stands = [0 for _ in range(stands_count)]\n",
    "    not_checked = 0\n",
    "    \n",
    "    for i in range(items_count):\n",
    "        rel_time = next(release_gen)\n",
    "        \n",
    "        for j in range(len(stands)):\n",
    "            stands[j] = max(0, stands[j] - rel_time)\n",
    "        \n",
    "        found_free = False\n",
    "        for j in range(len(stands)):\n",
    "            if stands[j] == 0:\n",
    "                stands[j] = next(check_gen)\n",
    "                found_free = True\n",
    "                break\n",
    "        \n",
    "        if not found_free:\n",
    "            not_checked += 1\n",
    "    \n",
    "    return (items_count - not_checked) / items_count\n",
    "\n",
    "a, b = 5, 15\n",
    "c, d = 15, 25\n",
    "release_gen = even_int_gen(a, b)\n",
    "check_gen = even_int_gen(c, d)\n",
    "for i in range(1, 10):\n",
    "    print(i, imit_model(10000, i, release_gen, check_gen))\n"
   ]
  }
 ],
 "metadata": {
  "kernelspec": {
   "display_name": "Python 3.10.6 64-bit",
   "language": "python",
   "name": "python3"
  },
  "language_info": {
   "codemirror_mode": {
    "name": "ipython",
    "version": 3
   },
   "file_extension": ".py",
   "mimetype": "text/x-python",
   "name": "python",
   "nbconvert_exporter": "python",
   "pygments_lexer": "ipython3",
   "version": "3.10.6"
  },
  "orig_nbformat": 4,
  "vscode": {
   "interpreter": {
    "hash": "e7370f93d1d0cde622a1f8e1c04877d8463912d04d973331ad4851f04de6915a"
   }
  }
 },
 "nbformat": 4,
 "nbformat_minor": 2
}
