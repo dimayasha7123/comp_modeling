{
 "cells": [
  {
   "cell_type": "markdown",
   "source": [
    "# Задание 1. Исследование связей между двумя исследуемыми признаками.\n",
    "## Условие задачи:\n",
    "По 20 туристическим фирмам были установлены затраты на рекламную\n",
    "кампанию и количество туристов, воспользовавшихся после ее проведения услугами каждой фирмы.\n",
    "Определить коэффициент корреляции между исследуемыми признаками."
   ],
   "metadata": {
    "collapsed": false
   }
  },
  {
   "cell_type": "markdown",
   "source": [
    "### Импорт библиотек"
   ],
   "metadata": {
    "collapsed": false
   }
  },
  {
   "cell_type": "code",
   "execution_count": 14,
   "metadata": {
    "collapsed": true
   },
   "outputs": [],
   "source": [
    "import pandas as pd\n",
    "from math import sqrt\n",
    "import matplotlib.pyplot as plt"
   ]
  },
  {
   "cell_type": "markdown",
   "source": [
    "### Создадим DataFrame со значениями таблицы\n"
   ],
   "metadata": {
    "collapsed": false
   }
  },
  {
   "cell_type": "code",
   "execution_count": 2,
   "outputs": [
    {
     "data": {
      "text/plain": "    Затраты на рекламу,y.e.(Xi)  \\\n0                             5   \n1                             5   \n2                             7   \n3                             8   \n4                             9   \n5                            10   \n6                            11   \n7                            12   \n8                            13   \n9                            14   \n10                           15   \n11                           15   \n12                           16   \n13                           17   \n14                           18   \n15                           18   \n16                           19   \n17                           20   \n18                           20   \n19                           21   \n\n    Количество туристов воспользовавшихся услугами фирмы (Yi)  \n0                                                 720          \n1                                                 750          \n2                                                 800          \n3                                                 820          \n4                                                 800          \n5                                                 880          \n6                                                 950          \n7                                                 820          \n8                                                 900          \n9                                                 950          \n10                                                920          \n11                                                980          \n12                                                980          \n13                                                970          \n14                                                980          \n15                                               1010          \n16                                               1100          \n17                                               1100          \n18                                               1115          \n19                                               1100          ",
      "text/html": "<div>\n<style scoped>\n    .dataframe tbody tr th:only-of-type {\n        vertical-align: middle;\n    }\n\n    .dataframe tbody tr th {\n        vertical-align: top;\n    }\n\n    .dataframe thead th {\n        text-align: right;\n    }\n</style>\n<table border=\"1\" class=\"dataframe\">\n  <thead>\n    <tr style=\"text-align: right;\">\n      <th></th>\n      <th>Затраты на рекламу,y.e.(Xi)</th>\n      <th>Количество туристов воспользовавшихся услугами фирмы (Yi)</th>\n    </tr>\n  </thead>\n  <tbody>\n    <tr>\n      <th>0</th>\n      <td>5</td>\n      <td>720</td>\n    </tr>\n    <tr>\n      <th>1</th>\n      <td>5</td>\n      <td>750</td>\n    </tr>\n    <tr>\n      <th>2</th>\n      <td>7</td>\n      <td>800</td>\n    </tr>\n    <tr>\n      <th>3</th>\n      <td>8</td>\n      <td>820</td>\n    </tr>\n    <tr>\n      <th>4</th>\n      <td>9</td>\n      <td>800</td>\n    </tr>\n    <tr>\n      <th>5</th>\n      <td>10</td>\n      <td>880</td>\n    </tr>\n    <tr>\n      <th>6</th>\n      <td>11</td>\n      <td>950</td>\n    </tr>\n    <tr>\n      <th>7</th>\n      <td>12</td>\n      <td>820</td>\n    </tr>\n    <tr>\n      <th>8</th>\n      <td>13</td>\n      <td>900</td>\n    </tr>\n    <tr>\n      <th>9</th>\n      <td>14</td>\n      <td>950</td>\n    </tr>\n    <tr>\n      <th>10</th>\n      <td>15</td>\n      <td>920</td>\n    </tr>\n    <tr>\n      <th>11</th>\n      <td>15</td>\n      <td>980</td>\n    </tr>\n    <tr>\n      <th>12</th>\n      <td>16</td>\n      <td>980</td>\n    </tr>\n    <tr>\n      <th>13</th>\n      <td>17</td>\n      <td>970</td>\n    </tr>\n    <tr>\n      <th>14</th>\n      <td>18</td>\n      <td>980</td>\n    </tr>\n    <tr>\n      <th>15</th>\n      <td>18</td>\n      <td>1010</td>\n    </tr>\n    <tr>\n      <th>16</th>\n      <td>19</td>\n      <td>1100</td>\n    </tr>\n    <tr>\n      <th>17</th>\n      <td>20</td>\n      <td>1100</td>\n    </tr>\n    <tr>\n      <th>18</th>\n      <td>20</td>\n      <td>1115</td>\n    </tr>\n    <tr>\n      <th>19</th>\n      <td>21</td>\n      <td>1100</td>\n    </tr>\n  </tbody>\n</table>\n</div>"
     },
     "execution_count": 2,
     "metadata": {},
     "output_type": "execute_result"
    }
   ],
   "source": [
    "pred_base = {\n",
    "    'Затраты на рекламу,y.e.(Xi)': [5, 5, 7, 8, 9, 10, 11, 12, 13, 14, 15, 15, 16, 17, 18, 18, 19, 20, 20, 21],\n",
    "    'Количество туристов воспользовавшихся услугами фирмы (Yi)': [720, 750, 800, 820, 800, 880, 950, 820, 900, 950, 920,\n",
    "                                                                  980, 980, 970, 980, 1010, 1100, 1100, 1115, 1100]\n",
    "}\n",
    "base = pd.DataFrame(pred_base)\n",
    "base"
   ],
   "metadata": {
    "collapsed": false
   }
  },
  {
   "cell_type": "markdown",
   "source": [
    "### Рассчитаем корреляцию"
   ],
   "metadata": {
    "collapsed": false
   }
  },
  {
   "cell_type": "code",
   "execution_count": 8,
   "outputs": [
    {
     "name": "stdout",
     "output_type": "stream",
     "text": [
      "Коэффициент корреляции между затратами на рекламу и количеством туристов воспользовавшихся услугами фирмы составляет:  0.9523045897895136\n"
     ]
    }
   ],
   "source": [
    "\n",
    "print(\n",
    "    'Коэффициент корреляции между затратами на рекламу и количеством туристов воспользовавшихся услугами фирмы составляет: ',\n",
    "    base.corr().to_dict()['Затраты на рекламу,y.e.(Xi)']['Количество туристов воспользовавшихся услугами фирмы (Yi)'])"
   ],
   "metadata": {
    "collapsed": false
   }
  },
  {
   "cell_type": "markdown",
   "source": [
    "По таблице ![Таблица корреляции](image/img.png)\n",
    "МЫ ДЕЛАЕМ ВЫВОД, ЧТО КОРРЕЛЯЦИЯ ОЧЕНЬ СИЛЬНАЯ"
   ],
   "metadata": {
    "collapsed": false
   }
  },
  {
   "cell_type": "markdown",
   "source": [
    "Оцените значимость коэффициента корреляции. С этой целью рассматриваются две гипотезы.\n",
    "Основная Н0: xy=0 и альтернативная Н1: xy≠0. Для проверки гипотезы Н0 рассчитайте t-\n",
    "статистику Стьюдента по формуле, указанной выше в ячейке С24. В нашем случае число степеней\n",
    "свободы ν = n-2=20-2 = 18 и формула будет следующей: =C23*КОРЕНЬ(20-2)/КОРЕНЬ(1-(C23*C23))\n",
    "5. Сравните полученное значение с критическим значением tν,α распределения Стьюдента. (При ν\n",
    "=18 и доверительной вероятности α = 0,05, tν,α,табл = 1,734). Сделайте вывод о наличии связи между\n",
    "исследуемыми величинами."
   ],
   "metadata": {
    "collapsed": false
   }
  },
  {
   "cell_type": "code",
   "execution_count": 16,
   "outputs": [
    {
     "name": "stdout",
     "output_type": "stream",
     "text": [
      "t-статистика Стюдента равна:  13.240367764107233\n"
     ]
    }
   ],
   "source": [
    "res = base.corr().to_dict()['Затраты на рекламу,y.e.(Xi)'][\n",
    "          'Количество туристов воспользовавшихся услугами фирмы (Yi)'] * sqrt(20 - 2) / sqrt(\n",
    "    1 - base.corr().to_dict()['Затраты на рекламу,y.e.(Xi)'][\n",
    "        'Количество туристов воспользовавшихся услугами фирмы (Yi)'] ** 2)\n",
    "print('t-статистика Стюдента равна: ',res)"
   ],
   "metadata": {
    "collapsed": false
   }
  },
  {
   "cell_type": "code",
   "execution_count": 19,
   "outputs": [
    {
     "name": "stdout",
     "output_type": "stream",
     "text": [
      "для нашей задачи, что бы отвергнуть нулевую гипотезу нужно, чтобы критерий стьюдента был:\n",
      " либо больше 1,734\n",
      "либо меньше -1,734\n",
      "\n",
      "Наше значение больше порогового интервала- следовательно мы отвергаем нулевую гипотезу в сторону альтернативной\n"
     ]
    }
   ],
   "source": [
    "print('для нашей задачи, что бы отвергнуть нулевую гипотезу нужно, чтобы критерий стьюдента был:\\n',\n",
    "      'либо больше 1,734\\n'\n",
    "      'либо меньше -1,734\\n')\n",
    "if res > 1.734:\n",
    "    print('Наше значение больше порогового интервала- следовательно мы отвергаем нулевую гипотезу в сторону альтернативной')\n",
    "elif res < -1.734:\n",
    "    print('Наше значение меньше порогового интервала- следовательно мы отвергаем нулевую гипотезу в сторону альтернативной')\n",
    "else:\n",
    "    print('Наше значение входит в  пороговый интервала- следовательно мы не отвергаем нулевую гипотезу в сторону альтернативной')\n"
   ],
   "metadata": {
    "collapsed": false
   }
  },
  {
   "cell_type": "code",
   "execution_count": null,
   "outputs": [],
   "source": [],
   "metadata": {
    "collapsed": false
   }
  }
 ],
 "metadata": {
  "kernelspec": {
   "display_name": "Python 3",
   "language": "python",
   "name": "python3"
  },
  "language_info": {
   "codemirror_mode": {
    "name": "ipython",
    "version": 2
   },
   "file_extension": ".py",
   "mimetype": "text/x-python",
   "name": "python",
   "nbconvert_exporter": "python",
   "pygments_lexer": "ipython2",
   "version": "2.7.6"
  }
 },
 "nbformat": 4,
 "nbformat_minor": 0
}
