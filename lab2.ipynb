{
 "cells": [
  {
   "cell_type": "markdown",
   "metadata": {},
   "source": [
    "Импортируем необходимые модули"
   ]
  },
  {
   "cell_type": "code",
   "execution_count": 1,
   "metadata": {},
   "outputs": [],
   "source": [
    "import random\n",
    "import numpy as np\n",
    "from typing import Callable"
   ]
  },
  {
   "cell_type": "markdown",
   "metadata": {},
   "source": [
    "Сделаем вспомогательную функцию \"сломается ли\""
   ]
  },
  {
   "cell_type": "code",
   "execution_count": 2,
   "metadata": {},
   "outputs": [],
   "source": [
    "def it_will_break(p: float) -> bool:\n",
    "    r = random.random()\n",
    "    if r < p:\n",
    "        return True \n",
    "    return False"
   ]
  },
  {
   "cell_type": "markdown",
   "metadata": {},
   "source": [
    "Напишем функции моделирования схемы альфа и подсчета аналитического решения"
   ]
  },
  {
   "cell_type": "code",
   "execution_count": 3,
   "metadata": {},
   "outputs": [],
   "source": [
    "def alpha_day(trip_count: int, pa, pb: float) -> int:\n",
    "    count = 0\n",
    "    fixing = False\n",
    "    for i in range(trip_count):\n",
    "        if not fixing:\n",
    "            count += 1\n",
    "            fixing = it_will_break(pa)\n",
    "        else:\n",
    "            fixing = False\n",
    "    return count\n",
    "\n",
    "\n",
    "def alpha_real(trip_count: int, pa, pb: float) -> float:\n",
    "    return trip_count/(1+pa)+pa*(1-(-pa)**trip_count)/(1+pa)**2"
   ]
  },
  {
   "cell_type": "markdown",
   "metadata": {},
   "source": [
    "Аналогично для схема бета"
   ]
  },
  {
   "cell_type": "code",
   "execution_count": 4,
   "metadata": {},
   "outputs": [],
   "source": [
    "def beta_day(trip_count: int, pa, pb: float) -> int:\n",
    "    count = 0\n",
    "    damage = False\n",
    "    for i in range(trip_count):\n",
    "        count += 1\n",
    "        if damage and it_will_break(pb):\n",
    "            break\n",
    "        else:\n",
    "            damage = damage or it_will_break(pa)\n",
    "    return count\n",
    "\n",
    "\n",
    "def beta_real(trip_count: int, pa, pb: float) -> float:\n",
    "    return ((pa**2)*(1-(1-pb)**trip_count)-(pb**2)*(1-(1-pa)**trip_count))/(pa*pb*(pa-pb))"
   ]
  },
  {
   "cell_type": "markdown",
   "metadata": {},
   "source": [
    "Сделаем функцию подсчета среднего числа рейсов за N дней"
   ]
  },
  {
   "cell_type": "code",
   "execution_count": 5,
   "metadata": {},
   "outputs": [],
   "source": [
    "def strategy_period_mean(days, trip_count, pa, pb: int, day_func: Callable[[int, float, float], int]) -> float:\n",
    "    period_data = list()\n",
    "    for i in range(days):\n",
    "        period_data.append(day_func(trip_count, pa, pb))\n",
    "    return np.mean(np.array(period_data))"
   ]
  },
  {
   "cell_type": "markdown",
   "metadata": {},
   "source": [
    "Протестируем"
   ]
  },
  {
   "cell_type": "code",
   "execution_count": 6,
   "metadata": {},
   "outputs": [
    {
     "name": "stdout",
     "output_type": "stream",
     "text": [
      "Days: 5000\n",
      "Trips per day: 10\n",
      "PA: 0.4\n",
      "PB: 0.7\n",
      "\n",
      "Alpha model:  7.35420\n",
      "Alpha real:   7.34692\n",
      "Beta model:   3.83880\n",
      "Beta real:    3.89331\n"
     ]
    }
   ],
   "source": [
    "days = 5000\n",
    "trip_count = 10\n",
    "pa = 0.4\n",
    "pb = 0.7\n",
    "\n",
    "a_model = strategy_period_mean(days, trip_count, pa, pb, alpha_day)\n",
    "a_real = alpha_real(trip_count, pa, pb)\n",
    "\n",
    "b_model = strategy_period_mean(days, trip_count, pa, pb, beta_day)\n",
    "b_real = beta_real(trip_count, pa, pb)\n",
    "\n",
    "print(f'Days: {days}')\n",
    "print(f'Trips per day: {trip_count}')\n",
    "print(f'PA: {pa}')\n",
    "print(f'PB: {pb}')\n",
    "print()\n",
    "print(f'Alpha model: {a_model:8.5f}')\n",
    "print(f'Alpha real:  {a_real:8.5f}')\n",
    "print(f'Beta model:  {b_model:8.5f}')\n",
    "print(f'Beta real:   {b_real:8.5f}')"
   ]
  }
 ],
 "metadata": {
  "kernelspec": {
   "display_name": "Python 3.10.6 64-bit",
   "language": "python",
   "name": "python3"
  },
  "language_info": {
   "codemirror_mode": {
    "name": "ipython",
    "version": 3
   },
   "file_extension": ".py",
   "mimetype": "text/x-python",
   "name": "python",
   "nbconvert_exporter": "python",
   "pygments_lexer": "ipython3",
   "version": "3.10.6"
  },
  "orig_nbformat": 4,
  "vscode": {
   "interpreter": {
    "hash": "e7370f93d1d0cde622a1f8e1c04877d8463912d04d973331ad4851f04de6915a"
   }
  }
 },
 "nbformat": 4,
 "nbformat_minor": 2
}
