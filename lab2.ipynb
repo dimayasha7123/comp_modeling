{
 "cells": [
  {
   "cell_type": "markdown",
   "metadata": {},
   "source": [
    "# Задание 1"
   ]
  },
  {
   "cell_type": "markdown",
   "metadata": {},
   "source": [
    "Импортируем необходимые модули"
   ]
  },
  {
   "cell_type": "code",
   "execution_count": 118,
   "metadata": {},
   "outputs": [],
   "source": [
    "import random\n",
    "import seaborn\n",
    "import numpy as np\n",
    "import pandas as pd\n",
    "import matplotlib.pyplot as plt\n",
    "import math\n",
    "import tabulate\n",
    "from typing import Callable"
   ]
  },
  {
   "cell_type": "markdown",
   "metadata": {},
   "source": [
    "Сделаем вспомогательную функцию \"сломается ли\""
   ]
  },
  {
   "cell_type": "code",
   "execution_count": 119,
   "metadata": {},
   "outputs": [],
   "source": [
    "def it_will_break(p: float) -> bool:\n",
    "    r = random.random()\n",
    "    if r < p:\n",
    "        return True \n",
    "    return False"
   ]
  },
  {
   "cell_type": "markdown",
   "metadata": {},
   "source": [
    "Напишем функции моделирования схемы альфа и подсчета аналитического решения"
   ]
  },
  {
   "cell_type": "code",
   "execution_count": 120,
   "metadata": {},
   "outputs": [],
   "source": [
    "def alpha_day(trip_count: int, pa, pb: float) -> int:\n",
    "    count = 0\n",
    "    fixing = False\n",
    "    for i in range(trip_count):\n",
    "        if not fixing:\n",
    "            count += 1\n",
    "            fixing = it_will_break(pa)\n",
    "        else:\n",
    "            fixing = False\n",
    "    return count\n",
    "\n",
    "\n",
    "def alpha_real(trip_count: int, pa, pb: float) -> float:\n",
    "    return trip_count/(1+pa)+pa*(1-(-pa)**trip_count)/(1+pa)**2"
   ]
  },
  {
   "cell_type": "markdown",
   "metadata": {},
   "source": [
    "Аналогично для схемы бета"
   ]
  },
  {
   "cell_type": "code",
   "execution_count": 121,
   "metadata": {},
   "outputs": [],
   "source": [
    "def beta_day(trip_count: int, pa, pb: float) -> int:\n",
    "    count = 0\n",
    "    damage = False\n",
    "    for i in range(trip_count):\n",
    "        count += 1\n",
    "        if damage and it_will_break(pb):\n",
    "            break\n",
    "        else:\n",
    "            damage = damage or it_will_break(pa)\n",
    "    return count\n",
    "\n",
    "\n",
    "def beta_real(trip_count: int, pa, pb: float) -> float:\n",
    "    return ((pa**2)*(1-(1-pb)**trip_count)-(pb**2)*(1-(1-pa)**trip_count))/(pa*pb*(pa-pb))"
   ]
  },
  {
   "cell_type": "markdown",
   "metadata": {},
   "source": [
    "Сделаем функцию подсчета среднего числа рейсов за N дней"
   ]
  },
  {
   "cell_type": "code",
   "execution_count": 122,
   "metadata": {},
   "outputs": [],
   "source": [
    "def strategy_period_mean(days, trip_count, pa, pb: int, day_func: Callable[[int, float, float], int]) -> float:\n",
    "    period_data = list()\n",
    "    for i in range(days):\n",
    "        period_data.append(day_func(trip_count, pa, pb))\n",
    "    return np.mean(np.array(period_data))"
   ]
  },
  {
   "cell_type": "markdown",
   "metadata": {},
   "source": [
    "Протестируем"
   ]
  },
  {
   "cell_type": "code",
   "execution_count": 123,
   "metadata": {},
   "outputs": [
    {
     "name": "stdout",
     "output_type": "stream",
     "text": [
      "Days: 500000\n",
      "Trips per day: 10\n",
      "PA: 0.4\n",
      "PB: 0.7\n",
      "\n",
      "Alpha model:  7.34737\n",
      "Alpha real:   7.34692\n",
      "Beta model:   3.89219\n",
      "Beta real:    3.89331\n"
     ]
    }
   ],
   "source": [
    "days_count = 500000\n",
    "trip_count = 10\n",
    "pa = 0.4\n",
    "pb = 0.7\n",
    "\n",
    "a_model = strategy_period_mean(days_count, trip_count, pa, pb, alpha_day)\n",
    "a_real = alpha_real(trip_count, pa, pb)\n",
    "\n",
    "b_model = strategy_period_mean(days_count, trip_count, pa, pb, beta_day)\n",
    "b_real = beta_real(trip_count, pa, pb)\n",
    "\n",
    "print(f'Days: {days_count}')\n",
    "print(f'Trips per day: {trip_count}')\n",
    "print(f'PA: {pa}')\n",
    "print(f'PB: {pb}')\n",
    "print()\n",
    "print(f'Alpha model: {a_model:8.5f}')\n",
    "print(f'Alpha real:  {a_real:8.5f}')\n",
    "print(f'Beta model:  {b_model:8.5f}')\n",
    "print(f'Beta real:   {b_real:8.5f}')"
   ]
  },
  {
   "cell_type": "markdown",
   "metadata": {},
   "source": [
    "# Задание 2"
   ]
  },
  {
   "cell_type": "markdown",
   "metadata": {},
   "source": [
    "Удобным образом генерируем дни"
   ]
  },
  {
   "cell_type": "code",
   "execution_count": 124,
   "metadata": {},
   "outputs": [],
   "source": [
    "day0 = 1\n",
    "days_max = 10000\n",
    "days = [day0]\n",
    "\n",
    "while (day0 < days_max):\n",
    "    day0 *= 2\n",
    "    days.append(int(day0))\n",
    "    day0 *= 2.5\n",
    "    days.append(int(day0))\n",
    "    day0*=2\n",
    "    days.append(int(day0))\n",
    "\n",
    "# this will generate [1, 2, 5, 10, 20, 50, 100, 200, 500, 1000]\n",
    "#                     |                                     |\n",
    "#                     |                                     |\n",
    "#                     1 is day0, power of ten             1000 is days_max, also power of ten"
   ]
  },
  {
   "cell_type": "markdown",
   "metadata": {},
   "source": [
    "Генерируем датасет и подсчитываем точные значения"
   ]
  },
  {
   "cell_type": "code",
   "execution_count": 125,
   "metadata": {},
   "outputs": [
    {
     "name": "stdout",
     "output_type": "stream",
     "text": [
      "      strategy   days     value\n",
      "0        alpha      1  9.000000\n",
      "1   alpha_real      1  7.346917\n",
      "2         beta      1  2.000000\n",
      "3    beta_real      1  3.893311\n",
      "4        alpha      2  7.500000\n",
      "5   alpha_real      2  7.346917\n",
      "6         beta      2  4.000000\n",
      "7    beta_real      2  3.893311\n",
      "8        alpha      5  7.800000\n",
      "9   alpha_real      5  7.346917\n",
      "10        beta      5  3.800000\n",
      "11   beta_real      5  3.893311\n",
      "12       alpha     10  7.500000\n",
      "13  alpha_real     10  7.346917\n",
      "14        beta     10  4.100000\n",
      "15   beta_real     10  3.893311\n",
      "16       alpha     20  7.000000\n",
      "17  alpha_real     20  7.346917\n",
      "18        beta     20  4.850000\n",
      "19   beta_real     20  3.893311\n",
      "20       alpha     50  7.440000\n",
      "21  alpha_real     50  7.346917\n",
      "22        beta     50  4.200000\n",
      "23   beta_real     50  3.893311\n",
      "24       alpha    100  7.420000\n",
      "25  alpha_real    100  7.346917\n",
      "26        beta    100  4.160000\n",
      "27   beta_real    100  3.893311\n",
      "28       alpha    200  7.255000\n",
      "29  alpha_real    200  7.346917\n",
      "30        beta    200  3.920000\n",
      "31   beta_real    200  3.893311\n",
      "32       alpha    500  7.342000\n",
      "33  alpha_real    500  7.346917\n",
      "34        beta    500  3.866000\n",
      "35   beta_real    500  3.893311\n",
      "36       alpha   1000  7.292000\n",
      "37  alpha_real   1000  7.346917\n",
      "38        beta   1000  3.806000\n",
      "39   beta_real   1000  3.893311\n",
      "40       alpha   2000  7.329000\n",
      "41  alpha_real   2000  7.346917\n",
      "42        beta   2000  3.916500\n",
      "43   beta_real   2000  3.893311\n",
      "44       alpha   5000  7.319400\n",
      "45  alpha_real   5000  7.346917\n",
      "46        beta   5000  3.876400\n",
      "47   beta_real   5000  3.893311\n",
      "48       alpha  10000  7.338400\n",
      "49  alpha_real  10000  7.346917\n",
      "50        beta  10000  3.894500\n",
      "51   beta_real  10000  3.893311\n"
     ]
    }
   ],
   "source": [
    "trip_count = 10\n",
    "pa = 0.4\n",
    "pb = 0.7\n",
    "\n",
    "a_real = alpha_real(trip_count, pa, pb)\n",
    "b_real = beta_real(trip_count, pa, pb)\n",
    "\n",
    "data = list()\n",
    "\n",
    "for days_count in days:\n",
    "    a_model = strategy_period_mean(days_count, trip_count, pa, pb, alpha_day)\n",
    "    b_model = strategy_period_mean(days_count, trip_count, pa, pb, beta_day)\n",
    "    data.append(['alpha', str(days_count), a_model])\n",
    "    data.append(['alpha_real', str(days_count), a_real])\n",
    "    data.append(['beta', str(days_count), b_model])\n",
    "    data.append(['beta_real', str(days_count), b_real])\n",
    "\n",
    "\n",
    "df = pd.DataFrame(data, columns = ['strategy', 'days', 'value'])\n",
    "# df.sort_values(by=['strategy', 'days'], inplace=True)\n",
    "print(df)"
   ]
  },
  {
   "cell_type": "markdown",
   "metadata": {},
   "source": [
    "Построим линейные графики"
   ]
  },
  {
   "cell_type": "code",
   "execution_count": 126,
   "metadata": {},
   "outputs": [
    {
     "data": {
      "text/plain": [
       "<matplotlib.legend.Legend at 0x7fa54f28d1e0>"
      ]
     },
     "execution_count": 126,
     "metadata": {},
     "output_type": "execute_result"
    },
    {
     "data": {
      "image/png": "[encoded data removed]",
      "text/plain": [
       "<Figure size 640x480 with 1 Axes>"
      ]
     },
     "metadata": {},
     "output_type": "display_data"
    }
   ],
   "source": [
    "g = seaborn.lineplot(df, x='days', y='value', hue='strategy')\n",
    "plt.legend(bbox_to_anchor=(1.02, 1), loc='upper left', borderaxespad=0) # для вывода легенды справа"
   ]
  }
 ],
 "metadata": {
  "kernelspec": {
   "display_name": "Python 3.10.6 64-bit",
   "language": "python",
   "name": "python3"
  },
  "language_info": {
   "codemirror_mode": {
    "name": "ipython",
    "version": 3
   },
   "file_extension": ".py",
   "mimetype": "text/x-python",
   "name": "python",
   "nbconvert_exporter": "python",
   "pygments_lexer": "ipython3",
   "version": "3.10.6"
  },
  "orig_nbformat": 4,
  "vscode": {
   "interpreter": {
    "hash": "e7370f93d1d0cde622a1f8e1c04877d8463912d04d973331ad4851f04de6915a"
   }
  }
 },
 "nbformat": 4,
 "nbformat_minor": 2
}
